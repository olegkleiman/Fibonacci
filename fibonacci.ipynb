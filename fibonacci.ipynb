{
 "cells": [
  {
   "cell_type": "markdown",
   "metadata": {},
   "source": [
    "Several approches ro calculate Fibonacci numbers,\n",
    "\n",
    "(Taking 1st two numbers as 0 and 1)"
   ]
  },
  {
   "cell_type": "markdown",
   "metadata": {},
   "source": [
    "\n",
    "\n",
    "**# 1. Classic**\n",
    "\n",
    "Time Complexity: $O(n)$"
   ]
  },
  {
   "cell_type": "code",
   "execution_count": 22,
   "metadata": {},
   "outputs": [
    {
     "name": "stdout",
     "output_type": "stream",
     "text": [
      "1. Classic: 55\n"
     ]
    }
   ],
   "source": [
    "def fib(n):\n",
    "    a = 0\n",
    "    b = 1\n",
    "    if n < 0:\n",
    "        return\n",
    "    elif n == 0:\n",
    "        return a\n",
    "    elif n == 1:\n",
    "        return b\n",
    "    else:\n",
    "        for i in range(2, n + 1):\n",
    "            c = a + b\n",
    "            a = b\n",
    "            b = c\n",
    "        return b\n",
    "    \n",
    "print(f\"1. Classic: {fib(10)}\")   "
   ]
  },
  {
   "cell_type": "markdown",
   "metadata": {},
   "source": [
    "# **2. Recursion** \n",
    "Very slow because has redundant function calls\n",
    "\n",
    "Time complexity: O(2 ^ n)"
   ]
  },
  {
   "cell_type": "code",
   "execution_count": 21,
   "metadata": {},
   "outputs": [
    {
     "name": "stdout",
     "output_type": "stream",
     "text": [
      "2. Recursion:55\n"
     ]
    }
   ],
   "source": [
    "def fib(n):\n",
    "    if n <= 1:\n",
    "        return n\n",
    "    else:\n",
    "        return fib(n - 1) + fib(n - 2)\n",
    "print(f\"2. Recursion: {fib(10)}\")  "
   ]
  },
  {
   "cell_type": "markdown",
   "metadata": {},
   "source": [
    "# **3. Use memoization** \n",
    "(dynamic programming) with dictionary.  Improves recursion by storing results.\n",
    "Time complexity: $O(n)$"
   ]
  },
  {
   "cell_type": "code",
   "execution_count": 19,
   "metadata": {},
   "outputs": [
    {
     "name": "stdout",
     "output_type": "stream",
     "text": [
      "3. DP: 55\n"
     ]
    }
   ],
   "source": [
    "memo = {0: 0, 1: 1}\n",
    "def fib(n):\n",
    "    if n in memo:\n",
    "        return memo[n]\n",
    "    memo[n] = fib(n - 1) + fib(n - 2)\n",
    "    return memo[n]\n",
    "\n",
    "print(f\"3. DP: {fib(10)}\")    "
   ]
  },
  {
   "cell_type": "markdown",
   "metadata": {},
   "source": [
    "# **4. Use production memoization.**\n",
    "Reusing prior computation\n",
    "\n",
    "Time complexity: $O(n)$"
   ]
  },
  {
   "cell_type": "code",
   "execution_count": 20,
   "metadata": {},
   "outputs": [
    {
     "name": "stdout",
     "output_type": "stream",
     "text": [
      "4. Cache: 55\n"
     ]
    }
   ],
   "source": [
    "from functools import lru_cache\n",
    "\n",
    "\n",
    "@lru_cache\n",
    "def fib(n):\n",
    "    if n == 0:\n",
    "        return 0\n",
    "    elif n == 1:\n",
    "        return 1\n",
    "    else:\n",
    "        return fib(n - 1) + fib(n - 2)\n",
    "print(f\"4. Cache: {fib(10)}\")    "
   ]
  },
  {
   "cell_type": "markdown",
   "metadata": {},
   "source": [
    "# **5. Use matrix exponentiation**\n",
    "\n",
    "Time Complexity: $O(log(n))$\n",
    "\n",
    "Based on simple matrix exponentiation rule:\n",
    "$$ \\begin{bmatrix}\n",
    "1 & 1\\\\\n",
    "1 & 0\n",
    "\\end{bmatrix}^n = \\begin{bmatrix}\n",
    "F_{n+1} & F_n\\\\\n",
    "F_n & F_{n-1} \n",
    "\\end{bmatrix} $$ \n",
    "\n",
    "\n",
    "**Proof:**\n",
    "\n",
    "Let $L$ be the linear operator on $\\mathbb{R}^2$ represented by the matrix\n",
    "$$ A=\\begin{pmatrix}\n",
    "1 & 1\\\\\n",
    "1 & 0\n",
    "\\end{pmatrix}$$\n",
    "w.r.t. the standard basis of $\\mathbb{R}^2$. For any vector $v=(x,y)^T$, we have that \n",
    "$$ \n",
    "L(v)= \\begin{pmatrix}\n",
    "1 & 1\\\\\n",
    "1 & 0\n",
    "\\end{pmatrix}\n",
    "\\begin{pmatrix}\n",
    "x\\\\\n",
    "y\n",
    "\\end{pmatrix}\n",
    "= \\begin{pmatrix}\n",
    "x + y\\\\\n",
    "x\n",
    "\\end{pmatrix}.\n",
    "$$\n",
    "In particular, for the vector whose coordinates are two consecutive Fibonacci numbers $(F_k, F_{k-1})^T$, we have that\n",
    "$$\n",
    "L(u_k)=A\\begin{pmatrix}\n",
    "F_k\\\\\n",
    "F_{k-1}\n",
    "\\end{pmatrix}\n",
    "=\\begin{pmatrix}\n",
    "F_k+F_{k-1}\\\\\n",
    "F_k\n",
    "\\end{pmatrix}\n",
    "=\\begin{pmatrix}\n",
    "F_{k+1} \\\\\n",
    "F_k\n",
    "\\end{pmatrix}\n",
    "=u_{k+1}\n",
    "$$\n"
   ]
  },
  {
   "cell_type": "code",
   "execution_count": 18,
   "metadata": {},
   "outputs": [
    {
     "name": "stdout",
     "output_type": "stream",
     "text": [
      "5. Matrix: 55\n"
     ]
    }
   ],
   "source": [
    "def power(F, n):\n",
    "    if (n == 0 or n == 1):\n",
    "        return\n",
    "    M = [[1, 1, ],\n",
    "         [1, 0]]\n",
    "    power(F, n // 2)  # floor\n",
    "    multiply(F, F)\n",
    "\n",
    "    if (n % 2 != 0):\n",
    "        multiply(F, M)\n",
    "\n",
    "\n",
    "def multiply(F, M):\n",
    "    x = (F[0][0] * M[0][0] +\n",
    "         F[0][1] * M[1][0])\n",
    "    y = (F[0][0] * M[0][1] +\n",
    "         F[0][1] * M[1][1])\n",
    "    z = (F[1][0] * M[0][0] +\n",
    "         F[1][1] * M[1][0])\n",
    "    w = (F[1][0] * M[0][1] +\n",
    "         F[1][1] * M[1][1])\n",
    "    F[0][0] = x\n",
    "    F[0][1] = y\n",
    "    F[1][0] = z\n",
    "    F[1][1] = w\n",
    "\n",
    "\n",
    "def fib(n):\n",
    "    F = [[1, 1],\n",
    "         [1, 0]]\n",
    "    power(F, n - 1)\n",
    "    return F[0][0]\n",
    "\n",
    "print(f\"5. Matrix: {fib(10)}\")"
   ]
  },
  {
   "cell_type": "markdown",
   "metadata": {},
   "source": [
    "# **6. According to golden ratio rule:**\n",
    "$$ \\lim_{n \\to \\infty} = \\frac{F_{n+1}}{F_n} = \\frac{1 + \\sqrt{5}}{2}$$\n",
    "\n",
    "and for $ n \\geqq 1 $:\n",
    "$$ F_n = \\frac{(1+\\sqrt{5})^n (1-\\sqrt{5})^n}{2^n*\\sqrt{5}}$$"
   ]
  },
  {
   "cell_type": "code",
   "execution_count": 17,
   "metadata": {},
   "outputs": [
    {
     "name": "stdout",
     "output_type": "stream",
     "text": [
      "6. Golden ratio: 55\n"
     ]
    }
   ],
   "source": [
    "import math\n",
    "def fib(n):\n",
    "    div = (1+math.sqrt(5))**n - (1-math.sqrt(5))**n\n",
    "    return div/(2**n*math.sqrt(5))\n",
    "print(f\"6. Golden ratio: {math.floor(fib(10))}\")"
   ]
  }
 ],
 "metadata": {
  "kernelspec": {
   "display_name": "Python 3",
   "language": "python",
   "name": "python3"
  },
  "language_info": {
   "codemirror_mode": {
    "name": "ipython",
    "version": 3
   },
   "file_extension": ".py",
   "mimetype": "text/x-python",
   "name": "python",
   "nbconvert_exporter": "python",
   "pygments_lexer": "ipython3",
   "version": "3.9.1"
  }
 },
 "nbformat": 4,
 "nbformat_minor": 2
}
